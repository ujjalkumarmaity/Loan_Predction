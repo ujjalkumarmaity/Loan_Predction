{
  "nbformat": 4,
  "nbformat_minor": 0,
  "metadata": {
    "kernelspec": {
      "display_name": "Python 3",
      "language": "python",
      "name": "python3"
    },
    "language_info": {
      "codemirror_mode": {
        "name": "ipython",
        "version": 3
      },
      "file_extension": ".py",
      "mimetype": "text/x-python",
      "name": "python",
      "nbconvert_exporter": "python",
      "pygments_lexer": "ipython3",
      "version": "3.7.4"
    },
    "colab": {
      "name": "basic2.ipynb",
      "provenance": [],
      "toc_visible": true,
      "include_colab_link": true
    }
  },
  "cells": [
    {
      "cell_type": "markdown",
      "metadata": {
        "id": "view-in-github",
        "colab_type": "text"
      },
      "source": [
        "<a href=\"https://colab.research.google.com/github/ujjalkumarmaity/Loan_Predction/blob/master/basic2.ipynb\" target=\"_parent\"><img src=\"https://colab.research.google.com/assets/colab-badge.svg\" alt=\"Open In Colab\"/></a>"
      ]
    },
    {
      "cell_type": "code",
      "metadata": {
        "id": "0Ig7u4gKEhmE",
        "colab_type": "code",
        "colab": {}
      },
      "source": [
        "import pandas as pd\n",
        "import numpy as np"
      ],
      "execution_count": 0,
      "outputs": []
    },
    {
      "cell_type": "code",
      "metadata": {
        "id": "pPPceFzAEnk6",
        "colab_type": "code",
        "outputId": "ecb83036-4ccf-4e67-9995-30611210f017",
        "colab": {
          "base_uri": "https://localhost:8080/",
          "height": 129
        }
      },
      "source": [
        "from google.colab import drive\n",
        "drive.mount('/content/drive')"
      ],
      "execution_count": 0,
      "outputs": [
        {
          "output_type": "stream",
          "text": [
            "Go to this URL in a browser: https://accounts.google.com/o/oauth2/auth?client_id=947318989803-6bn6qk8qdgf4n4g3pfee6491hc0brc4i.apps.googleusercontent.com&redirect_uri=urn%3aietf%3awg%3aoauth%3a2.0%3aoob&response_type=code&scope=email%20https%3a%2f%2fwww.googleapis.com%2fauth%2fdocs.test%20https%3a%2f%2fwww.googleapis.com%2fauth%2fdrive%20https%3a%2f%2fwww.googleapis.com%2fauth%2fdrive.photos.readonly%20https%3a%2f%2fwww.googleapis.com%2fauth%2fpeopleapi.readonly\n",
            "\n",
            "Enter your authorization code:\n",
            "··········\n",
            "Mounted at /content/drive\n"
          ],
          "name": "stdout"
        }
      ]
    },
    {
      "cell_type": "code",
      "metadata": {
        "id": "TFtMC3lQEhmX",
        "colab_type": "code",
        "colab": {}
      },
      "source": [
        "data = pd.read_csv('/content/drive/My Drive/project/clean.csv')"
      ],
      "execution_count": 0,
      "outputs": []
    },
    {
      "cell_type": "code",
      "metadata": {
        "id": "MKiwgRj1Ehmk",
        "colab_type": "code",
        "colab": {}
      },
      "source": [
        "data.drop(['purpose','earliest_cr_line'],axis=1,inplace=True)\n",
        "data.dropna(inplace=True)"
      ],
      "execution_count": 0,
      "outputs": []
    },
    {
      "cell_type": "code",
      "metadata": {
        "scrolled": true,
        "id": "7Digj4VGEhmu",
        "colab_type": "code",
        "colab": {}
      },
      "source": [
        "from sklearn.preprocessing import LabelEncoder\n",
        "lst = ['term','home_ownership','verification_status']\n",
        "for i in lst:\n",
        "    val = LabelEncoder()\n",
        "    val.fit(data[i])\n",
        "    data[i] = val.fit_transform(data[i])\n"
      ],
      "execution_count": 0,
      "outputs": []
    },
    {
      "cell_type": "code",
      "metadata": {
        "id": "AFAl8Iz7Ehm2",
        "colab_type": "code",
        "outputId": "15204b44-0b1c-4598-88b2-6702c18da827",
        "colab": {
          "base_uri": "https://localhost:8080/",
          "height": 35
        }
      },
      "source": [
        "data.shape"
      ],
      "execution_count": 0,
      "outputs": [
        {
          "output_type": "execute_result",
          "data": {
            "text/plain": [
              "(1226677, 21)"
            ]
          },
          "metadata": {
            "tags": []
          },
          "execution_count": 6
        }
      ]
    },
    {
      "cell_type": "code",
      "metadata": {
        "id": "KkZ31iauEhm-",
        "colab_type": "code",
        "colab": {}
      },
      "source": [
        "X = data.drop('loan_status',axis=1)\n",
        "y = data['loan_status']"
      ],
      "execution_count": 0,
      "outputs": []
    },
    {
      "cell_type": "code",
      "metadata": {
        "id": "L3K4dREXEhnE",
        "colab_type": "code",
        "colab": {}
      },
      "source": [
        "from sklearn.model_selection import train_test_split\n",
        "x_train, x_test, y_train, y_test = train_test_split(X,y, test_size =0.3,stratify =y)"
      ],
      "execution_count": 0,
      "outputs": []
    },
    {
      "cell_type": "code",
      "metadata": {
        "id": "z6kcOb4AEhnI",
        "colab_type": "code",
        "colab": {}
      },
      "source": [
        "from sklearn.linear_model import LogisticRegression \n",
        "from sklearn.metrics import accuracy_score\n",
        "from sklearn import tree\n",
        "from sklearn.naive_bayes import GaussianNB\n",
        "from sklearn.neighbors import KNeighborsClassifier\n",
        "from sklearn.neural_network import MLPClassifier\n",
        "from sklearn.ensemble import AdaBoostClassifier\n",
        "from matplotlib import pyplot\n",
        "from sklearn.metrics import roc_curve\n",
        "from sklearn.metrics import roc_auc_score\n",
        "from sklearn.model_selection import StratifiedKFold\n",
        "from sklearn import tree\n",
        "from sklearn.ensemble import GradientBoostingClassifier\n",
        "from sklearn.ensemble import RandomForestClassifier\n",
        "from sklearn.discriminant_analysis import LinearDiscriminantAnalysis"
      ],
      "execution_count": 0,
      "outputs": []
    },
    {
      "cell_type": "markdown",
      "metadata": {
        "id": "uVzGdLKKEhnO",
        "colab_type": "text"
      },
      "source": [
        "# Decision Tree"
      ]
    },
    {
      "cell_type": "code",
      "metadata": {
        "id": "U6thnFByEhnQ",
        "colab_type": "code",
        "outputId": "b9c7761f-147a-434f-d1e8-ea24b324c4d0",
        "colab": {
          "base_uri": "https://localhost:8080/",
          "height": 338
        }
      },
      "source": [
        "'''\n",
        "i=1\n",
        "kf = StratifiedKFold(n_splits=5,random_state=1,shuffle=True) \n",
        "avg = 0\n",
        "for train_index,test_index in kf.split(X,y):\n",
        "    print('\\n{} of kfold {}'.format(i,kf.n_splits))\n",
        "    xtr,xvl = X.loc[train_index],X.loc[test_index]\n",
        "    ytr,yvl = y[train_index],y[test_index]\n",
        "    model = tree.DecisionTreeClassifier(random_state=1)\n",
        "    model.fit(xtr, ytr)\n",
        "    pred_test = model.predict(xvl)\n",
        "    score = accuracy_score(yvl,pred_test)\n",
        "    avg += score\n",
        "    print('accuracy_score',score)\n",
        "    i+=1\n",
        "print('\\naverage score = ',avg/5)'''\n",
        "model = tree.DecisionTreeClassifier(random_state=1)   \n",
        "model.fit(x_train, y_train)     \n",
        "pred1 = model.predict(x_test) \n",
        "print('testing=',accuracy_score(y_test,pred1))\n",
        "pred1 = model.predict(x_train) \n",
        "print('traing=',accuracy_score(y_train,pred1))\n",
        "\n",
        "# get AucScore and auc curve\n",
        "probs = model.predict_proba(x_test)\n",
        "probs = probs[:, 1]\n",
        "auc = roc_auc_score(y_test, probs)\n",
        "print('testing AUC: %.3f' % auc)\n",
        "fpr, tpr, thresholds = roc_curve(y_test, probs)\n",
        "pyplot.plot([0, 1], [0, 1], linestyle='--')\n",
        "pyplot.plot(fpr, tpr, marker='.')\n",
        "probs = model.predict_proba(x_train)\n",
        "probs = probs[:, 1]\n",
        "auc = roc_auc_score(y_train, probs)\n",
        "print('training AUC: %.3f' % auc)\n",
        "fpr, tpr, thresholds = roc_curve(y_train, probs)\n",
        "pyplot.plot(fpr, tpr, marker='.')\n",
        "pyplot.show()"
      ],
      "execution_count": 0,
      "outputs": [
        {
          "output_type": "stream",
          "text": [
            "testing= 0.700092933772459\n",
            "traing= 1.0\n",
            "testing AUC: 0.542\n",
            "training AUC: 1.000\n"
          ],
          "name": "stdout"
        },
        {
          "output_type": "display_data",
          "data": {
            "image/png": "[encoded data removed]",
            "text/plain": [
              "<Figure size 432x288 with 1 Axes>"
            ]
          },
          "metadata": {
            "tags": []
          }
        }
      ]
    },
    {
      "cell_type": "markdown",
      "metadata": {
        "id": "U1jPGXpMMWqN",
        "colab_type": "text"
      },
      "source": [
        "# New Section"
      ]
    },
    {
      "cell_type": "code",
      "metadata": {
        "id": "cMMcGs7AEhnY",
        "colab_type": "code",
        "outputId": "6c43edd2-d33d-452e-dfc4-777564e8484f",
        "colab": {
          "base_uri": "https://localhost:8080/",
          "height": 501
        }
      },
      "source": [
        "importances=pd.Series(model.feature_importances_, index=X.columns)\n",
        "importances.plot(kind='barh', figsize=(12,8))"
      ],
      "execution_count": 0,
      "outputs": [
        {
          "output_type": "execute_result",
          "data": {
            "text/plain": [
              "<matplotlib.axes._subplots.AxesSubplot at 0x7f78c0f97630>"
            ]
          },
          "metadata": {
            "tags": []
          },
          "execution_count": 11
        },
        {
          "output_type": "display_data",
          "data": {
            "image/png": "[encoded data removed]",
            "text/plain": [
              "<Figure size 864x576 with 1 Axes>"
            ]
          },
          "metadata": {
            "tags": []
          }
        }
      ]
    },
    {
      "cell_type": "markdown",
      "metadata": {
        "id": "tlEEAB25Ehng",
        "colab_type": "text"
      },
      "source": [
        "# KNN classifier"
      ]
    },
    {
      "cell_type": "code",
      "metadata": {
        "id": "uFLXh1G_Ehni",
        "colab_type": "code",
        "outputId": "a3e2d1dd-4e95-4cc5-f20b-d01561a4f835",
        "colab": {
          "base_uri": "https://localhost:8080/",
          "height": 338
        }
      },
      "source": [
        "'''\n",
        "i=1\n",
        "kf = StratifiedKFold(n_splits=5,random_state=1,shuffle=True) \n",
        "avg = 0\n",
        "for train_index,test_index in kf.split(X,y):\n",
        "    print('\\n{} of kfold {}'.format(i,kf.n_splits))\n",
        "    xtr,xvl = X.loc[train_index],X.loc[test_index]\n",
        "    ytr,yvl = y[train_index],y[test_index]\n",
        "    model = KNeighborsClassifier(n_neighbors=10)\n",
        "    model.fit(xtr, ytr)\n",
        "    pred_test = model.predict(xvl)\n",
        "    score = accuracy_score(yvl,pred_test)\n",
        "    avg += score\n",
        "    print('accuracy_score',score)\n",
        "    i+=1\n",
        "print('\\naverage score = ',avg/5)'''\n",
        "model = KNeighborsClassifier(n_neighbors=10)   \n",
        "model.fit(x_train, y_train)     \n",
        "pred1 = model.predict(x_test) \n",
        "print('testing=',accuracy_score(y_test,pred1))\n",
        "pred1 = model.predict(x_train) \n",
        "print('traing=',accuracy_score(y_train,pred1))\n",
        "\n",
        "# get AucScore and auc curve\n",
        "probs = model.predict_proba(x_test)\n",
        "probs = probs[:, 1]\n",
        "auc = roc_auc_score(y_test, probs)\n",
        "print('testing AUC: %.3f' % auc)\n",
        "fpr, tpr, thresholds = roc_curve(y_test, probs)\n",
        "pyplot.plot([0, 1], [0, 1], linestyle='--')\n",
        "pyplot.plot(fpr, tpr, marker='.')\n",
        "probs = model.predict_proba(x_train)\n",
        "probs = probs[:, 1]\n",
        "auc = roc_auc_score(y_train, probs)\n",
        "print('training AUC: %.3f' % auc)\n",
        "fpr, tpr, thresholds = roc_curve(y_train, probs)\n",
        "pyplot.plot(fpr, tpr, marker='.')\n",
        "pyplot.show()"
      ],
      "execution_count": 0,
      "outputs": [
        {
          "output_type": "stream",
          "text": [
            "testing= 0.7803964087346876\n",
            "traing= 0.807172229707933\n",
            "testing AUC: 0.558\n",
            "training AUC: 0.746\n"
          ],
          "name": "stdout"
        },
        {
          "output_type": "display_data",
          "data": {
            "image/png": "[encoded data removed]",
            "text/plain": [
              "<Figure size 432x288 with 1 Axes>"
            ]
          },
          "metadata": {
            "tags": []
          }
        }
      ]
    },
    {
      "cell_type": "markdown",
      "metadata": {
        "id": "cBKFJWqPEhno",
        "colab_type": "text"
      },
      "source": [
        "# Naive Bayes"
      ]
    },
    {
      "cell_type": "code",
      "metadata": {
        "id": "4cj8aYukEhnq",
        "colab_type": "code",
        "outputId": "41e41248-ed3c-4201-d878-a7439c2b8e30",
        "colab": {
          "base_uri": "https://localhost:8080/",
          "height": 338
        }
      },
      "source": [
        "\n",
        "\n",
        "model =GaussianNB()   \n",
        "model.fit(x_train, y_train)     \n",
        "pred1 = model.predict(x_test) \n",
        "print('testing=',accuracy_score(y_test,pred1))\n",
        "pred1 = model.predict(x_train) \n",
        "print('traing=',accuracy_score(y_train,pred1))\n",
        "\n",
        "# get AucScore and auc curve\n",
        "probs = model.predict_proba(x_test)\n",
        "probs = probs[:, 1]\n",
        "auc = roc_auc_score(y_test, probs)\n",
        "print('testing AUC: %.3f' % auc)\n",
        "fpr, tpr, thresholds = roc_curve(y_test, probs)\n",
        "pyplot.plot([0, 1], [0, 1], linestyle='--')\n",
        "pyplot.plot(fpr, tpr, marker='.')\n",
        "probs = model.predict_proba(x_train)\n",
        "probs = probs[:, 1]\n",
        "auc = roc_auc_score(y_train, probs)\n",
        "print('training AUC: %.3f' % auc)\n",
        "fpr, tpr, thresholds = roc_curve(y_train, probs)\n",
        "pyplot.plot(fpr, tpr, marker='.')\n",
        "pyplot.show()"
      ],
      "execution_count": 0,
      "outputs": [
        {
          "output_type": "stream",
          "text": [
            "testing= 0.8031380093694633\n",
            "traing= 0.803095008227812\n",
            "testing AUC: 0.603\n",
            "training AUC: 0.601\n"
          ],
          "name": "stdout"
        },
        {
          "output_type": "display_data",
          "data": {
            "image/png": "[encoded data removed]",
            "text/plain": [
              "<Figure size 432x288 with 1 Axes>"
            ]
          },
          "metadata": {
            "tags": []
          }
        }
      ]
    },
    {
      "cell_type": "markdown",
      "metadata": {
        "id": "J8SdG4uCEhnu",
        "colab_type": "text"
      },
      "source": [
        "# Logistic Regression"
      ]
    },
    {
      "cell_type": "code",
      "metadata": {
        "id": "qJsA8nOMEhnw",
        "colab_type": "code",
        "outputId": "339053e7-f11f-4390-beb4-2f6c98598509",
        "colab": {
          "base_uri": "https://localhost:8080/",
          "height": 395
        }
      },
      "source": [
        "\n",
        "\n",
        "model =LogisticRegression(class_weight='balanced')   \n",
        "model.fit(x_train, y_train)     \n",
        "pred1 = model.predict(x_test) \n",
        "print('testing=',accuracy_score(y_test,pred1))\n",
        "pred1 = model.predict(x_train) \n",
        "print('traing=',accuracy_score(y_train,pred1))\n",
        "\n",
        "# get AucScore and auc curve\n",
        "probs = model.predict_proba(x_test)\n",
        "probs = probs[:, 1]\n",
        "auc = roc_auc_score(y_test, probs)\n",
        "print('testing AUC: %.3f' % auc)\n",
        "fpr, tpr, thresholds = roc_curve(y_test, probs)\n",
        "pyplot.plot([0, 1], [0, 1], linestyle='--')\n",
        "pyplot.plot(fpr, tpr, marker='.')\n",
        "probs = model.predict_proba(x_train)\n",
        "probs = probs[:, 1]\n",
        "auc = roc_auc_score(y_train, probs)\n",
        "print('training AUC: %.3f' % auc)\n",
        "fpr, tpr, thresholds = roc_curve(y_train, probs)\n",
        "pyplot.plot(fpr, tpr, marker='.')\n",
        "pyplot.show()"
      ],
      "execution_count": 0,
      "outputs": [
        {
          "output_type": "stream",
          "text": [
            "/usr/local/lib/python3.6/dist-packages/sklearn/linear_model/logistic.py:432: FutureWarning: Default solver will be changed to 'lbfgs' in 0.22. Specify a solver to silence this warning.\n",
            "  FutureWarning)\n"
          ],
          "name": "stderr"
        },
        {
          "output_type": "stream",
          "text": [
            "testing= 0.5638416973728546\n",
            "traing= 0.5633064041841306\n",
            "testing AUC: 0.621\n",
            "training AUC: 0.621\n"
          ],
          "name": "stdout"
        },
        {
          "output_type": "display_data",
          "data": {
            "image/png": "[encoded data removed]",
            "text/plain": [
              "<Figure size 432x288 with 1 Axes>"
            ]
          },
          "metadata": {
            "tags": []
          }
        }
      ]
    },
    {
      "cell_type": "markdown",
      "metadata": {
        "id": "-7w1DkZVEhn2",
        "colab_type": "text"
      },
      "source": [
        "# MLP classifier"
      ]
    },
    {
      "cell_type": "code",
      "metadata": {
        "id": "_Dbu6EgQEhn3",
        "colab_type": "code",
        "outputId": "a2af1b0d-7e98-47cd-b5cd-affd9b7bf75e",
        "colab": {
          "base_uri": "https://localhost:8080/",
          "height": 338
        }
      },
      "source": [
        "\n",
        "\n",
        "model =MLPClassifier(2)    \n",
        "model.fit(x_train, y_train)     \n",
        "pred1 = model.predict(x_test) \n",
        "print('testing=',accuracy_score(y_test,pred1))\n",
        "pred1 = model.predict(x_train) \n",
        "print('traing=',accuracy_score(y_train,pred1))\n",
        "\n",
        "# get AucScore and auc curve\n",
        "probs = model.predict_proba(x_test)\n",
        "probs = probs[:, 1]\n",
        "auc = roc_auc_score(y_test, probs)\n",
        "print('testing AUC: %.3f' % auc)\n",
        "fpr, tpr, thresholds = roc_curve(y_test, probs)\n",
        "pyplot.plot([0, 1], [0, 1], linestyle='--')\n",
        "pyplot.plot(fpr, tpr, marker='.')\n",
        "probs = model.predict_proba(x_train)\n",
        "probs = probs[:, 1]\n",
        "auc = roc_auc_score(y_train, probs)\n",
        "print('training AUC: %.3f' % auc)\n",
        "fpr, tpr, thresholds = roc_curve(y_train, probs)\n",
        "pyplot.plot(fpr, tpr, marker='.')\n",
        "pyplot.show()"
      ],
      "execution_count": 0,
      "outputs": [
        {
          "output_type": "stream",
          "text": [
            "testing= 0.8035456136346344\n",
            "traing= 0.8035457036613473\n",
            "testing AUC: 0.500\n",
            "training AUC: 0.500\n"
          ],
          "name": "stdout"
        },
        {
          "output_type": "display_data",
          "data": {
            "image/png": "[encoded data removed]",
            "text/plain": [
              "<Figure size 432x288 with 1 Axes>"
            ]
          },
          "metadata": {
            "tags": []
          }
        }
      ]
    },
    {
      "cell_type": "markdown",
      "metadata": {
        "id": "EqbdPLVLEhn9",
        "colab_type": "text"
      },
      "source": [
        "# Adaboost"
      ]
    },
    {
      "cell_type": "code",
      "metadata": {
        "id": "RNhD55HeEhn-",
        "colab_type": "code",
        "outputId": "058e5747-860d-4193-deb3-b15d4a1baa6b",
        "colab": {
          "base_uri": "https://localhost:8080/",
          "height": 338
        }
      },
      "source": [
        "\n",
        "model =AdaBoostClassifier()    \n",
        "model.fit(x_train, y_train)     \n",
        "pred1 = model.predict(x_test) \n",
        "print('testing=',accuracy_score(y_test,pred1))\n",
        "pred1 = model.predict(x_train) \n",
        "print('traing=',accuracy_score(y_train,pred1))\n",
        "\n",
        "# get AucScore and auc curve\n",
        "probs = model.predict_proba(x_test)\n",
        "probs = probs[:, 1]\n",
        "auc = roc_auc_score(y_test, probs)\n",
        "print('testing AUC: %.3f' % auc)\n",
        "fpr, tpr, thresholds = roc_curve(y_test, probs)\n",
        "pyplot.plot([0, 1], [0, 1], linestyle='--')\n",
        "pyplot.plot(fpr, tpr, marker='.')\n",
        "probs = model.predict_proba(x_train)\n",
        "probs = probs[:, 1]\n",
        "auc = roc_auc_score(y_train, probs)\n",
        "print('training AUC: %.3f' % auc)\n",
        "fpr, tpr, thresholds = roc_curve(y_train, probs)\n",
        "pyplot.plot(fpr, tpr, marker='.')\n",
        "pyplot.show()"
      ],
      "execution_count": 0,
      "outputs": [
        {
          "output_type": "stream",
          "text": [
            "testing= 0.8046678840447387\n",
            "traing= 0.805051515536182\n",
            "testing AUC: 0.689\n",
            "training AUC: 0.689\n"
          ],
          "name": "stdout"
        },
        {
          "output_type": "display_data",
          "data": {
            "image/png": "[encoded data removed]",
            "text/plain": [
              "<Figure size 432x288 with 1 Axes>"
            ]
          },
          "metadata": {
            "tags": []
          }
        }
      ]
    },
    {
      "cell_type": "markdown",
      "metadata": {
        "id": "kicFnhaDEhoD",
        "colab_type": "text"
      },
      "source": [
        "# Xgboost"
      ]
    },
    {
      "cell_type": "code",
      "metadata": {
        "id": "GWPrjEqCEhoF",
        "colab_type": "code",
        "outputId": "6a712045-a505-4963-dae9-f3845bf04092",
        "colab": {
          "base_uri": "https://localhost:8080/",
          "height": 338
        }
      },
      "source": [
        "\n",
        "model =GradientBoostingClassifier()   \n",
        "model.fit(x_train, y_train)     \n",
        "pred1 = model.predict(x_test) \n",
        "print('testing=',accuracy_score(y_test,pred1))\n",
        "pred1 = model.predict(x_train) \n",
        "print('traing=',accuracy_score(y_train,pred1))\n",
        "\n",
        "# get AucScore and auc curve\n",
        "probs = model.predict_proba(x_test)\n",
        "probs = probs[:, 1]\n",
        "auc = roc_auc_score(y_test, probs)\n",
        "print('testing AUC: %.3f' % auc)\n",
        "fpr, tpr, thresholds = roc_curve(y_test, probs)\n",
        "pyplot.plot([0, 1], [0, 1], linestyle='--')\n",
        "pyplot.plot(fpr, tpr, marker='.')\n",
        "probs = model.predict_proba(x_train)\n",
        "probs = probs[:, 1]\n",
        "auc = roc_auc_score(y_train, probs)\n",
        "print('training AUC: %.3f' % auc)\n",
        "fpr, tpr, thresholds = roc_curve(y_train, probs)\n",
        "pyplot.plot(fpr, tpr, marker='.')\n",
        "pyplot.show()"
      ],
      "execution_count": 0,
      "outputs": [
        {
          "output_type": "stream",
          "text": [
            "testing= 0.8057004815165053\n",
            "traing= 0.8058970061944419\n",
            "testing AUC: 0.695\n",
            "training AUC: 0.696\n"
          ],
          "name": "stdout"
        },
        {
          "output_type": "display_data",
          "data": {
            "image/png": "[encoded data removed]",
            "text/plain": [
              "<Figure size 432x288 with 1 Axes>"
            ]
          },
          "metadata": {
            "tags": []
          }
        }
      ]
    },
    {
      "cell_type": "markdown",
      "metadata": {
        "id": "FRBX03hqEhoL",
        "colab_type": "text"
      },
      "source": [
        "# Random Forest"
      ]
    },
    {
      "cell_type": "code",
      "metadata": {
        "id": "6tJPPZ2CEhoN",
        "colab_type": "code",
        "outputId": "50f990ce-9c4f-401c-b1fe-55b3b3dbe0b6",
        "colab": {
          "base_uri": "https://localhost:8080/",
          "height": 338
        }
      },
      "source": [
        "\n",
        "model =RandomForestClassifier(n_estimators=100, max_depth=2,random_state=0)    \n",
        "model.fit(x_train, y_train)     \n",
        "pred1 = model.predict(x_test) \n",
        "print('testing=',accuracy_score(y_test,pred1))\n",
        "pred1 = model.predict(x_train) \n",
        "print('traing=',accuracy_score(y_train,pred1))\n",
        "\n",
        "# get AucScore and auc curve\n",
        "probs = model.predict_proba(x_test)\n",
        "probs = probs[:, 1]\n",
        "auc = roc_auc_score(y_test, probs)\n",
        "print('testing AUC: %.3f' % auc)\n",
        "fpr, tpr, thresholds = roc_curve(y_test, probs)\n",
        "pyplot.plot([0, 1], [0, 1], linestyle='--')\n",
        "pyplot.plot(fpr, tpr, marker='.')\n",
        "probs = model.predict_proba(x_train)\n",
        "probs = probs[:, 1]\n",
        "auc = roc_auc_score(y_train, probs)\n",
        "print('training AUC: %.3f' % auc)\n",
        "fpr, tpr, thresholds = roc_curve(y_train, probs)\n",
        "pyplot.plot(fpr, tpr, marker='.')\n",
        "pyplot.show()"
      ],
      "execution_count": 0,
      "outputs": [
        {
          "output_type": "stream",
          "text": [
            "testing= 0.8035456136346344\n",
            "traing= 0.8035457036613473\n",
            "testing AUC: 0.662\n",
            "training AUC: 0.661\n"
          ],
          "name": "stdout"
        },
        {
          "output_type": "display_data",
          "data": {
            "image/png": "[encoded data removed]",
            "text/plain": [
              "<Figure size 432x288 with 1 Axes>"
            ]
          },
          "metadata": {
            "tags": []
          }
        }
      ]
    },
    {
      "cell_type": "markdown",
      "metadata": {
        "id": "GjVjo-vvEhoS",
        "colab_type": "text"
      },
      "source": [
        "# Linear Discrimnative Analysis"
      ]
    },
    {
      "cell_type": "code",
      "metadata": {
        "id": "5fHDg7hNEhoS",
        "colab_type": "code",
        "outputId": "0e8662e1-712a-4931-a743-b6e7983c7d8d",
        "colab": {}
      },
      "source": [
        "\n",
        "\n",
        "model =LinearDiscriminantAnalysis()    \n",
        "model.fit(x_train, y_train)     \n",
        "pred1 = model.predict(x_test) \n",
        "print('testing=',accuracy_score(y_test,pred1))\n",
        "pred1 = model.predict(x_train) \n",
        "print('traing=',accuracy_score(y_train,pred1))\n",
        "\n",
        "# get AucScore and auc curve\n",
        "probs = model.predict_proba(x_test)\n",
        "probs = probs[:, 1]\n",
        "auc = roc_auc_score(y_test, probs)\n",
        "print('testing AUC: %.3f' % auc)\n",
        "fpr, tpr, thresholds = roc_curve(y_test, probs)\n",
        "pyplot.plot([0, 1], [0, 1], linestyle='--')\n",
        "pyplot.plot(fpr, tpr, marker='.')\n",
        "probs = model.predict_proba(x_train)\n",
        "probs = probs[:, 1]\n",
        "auc = roc_auc_score(y_train, probs)\n",
        "print('training AUC: %.3f' % auc)\n",
        "fpr, tpr, thresholds = roc_curve(y_train, probs)\n",
        "pyplot.plot(fpr, tpr, marker='.')\n",
        "pyplot.show()"
      ],
      "execution_count": 0,
      "outputs": [
        {
          "output_type": "stream",
          "text": [
            "testing= 0.8044423430180107\n",
            "traing= 0.804073261881997\n",
            "testing AUC: 0.678\n",
            "training AUC: 0.678\n"
          ],
          "name": "stdout"
        },
        {
          "output_type": "display_data",
          "data": {
            "image/png": "[encoded data removed]",
            "text/plain": [
              "<Figure size 432x288 with 1 Axes>"
            ]
          },
          "metadata": {
            "tags": []
          }
        }
      ]
    },
    {
      "cell_type": "code",
      "metadata": {
        "id": "TYyWU9aVEhoW",
        "colab_type": "code",
        "colab": {}
      },
      "source": [
        ""
      ],
      "execution_count": 0,
      "outputs": []
    },
    {
      "cell_type": "code",
      "metadata": {
        "id": "Pbs3HufgEhoc",
        "colab_type": "code",
        "outputId": "7a666e43-7acc-4d97-ceb2-486e7f0e750f",
        "colab": {}
      },
      "source": [
        "model = tree.DecisionTreeClassifier(random_state=1)     \n",
        "model.fit(x_train, y_train)     \n",
        "pred1 = model.predict(x_test) \n",
        "print(accuracy_score(y_test,pred1))\n",
        "\n",
        "# get AucScore and auc curve\n",
        "probs = model.predict_proba(x_test)\n",
        "probs = probs[:, 1]\n",
        "auc = roc_auc_score(y_test, probs)\n",
        "print('AUC: %.3f' % auc)\n",
        "fpr, tpr, thresholds = roc_curve(y_test, probs)\n",
        "pyplot.plot([0, 1], [0, 1], linestyle='--')\n",
        "pyplot.plot(fpr, tpr, marker='.')\n",
        "pyplot.show()\n",
        "\n",
        "\n",
        "model = KNeighborsClassifier(n_neighbors=10)\n",
        "model.fit(x_train, y_train)     \n",
        "pred2 = model.predict(x_test)     \n",
        "print(accuracy_score(y_test,pred2))\n",
        "\n",
        "# get AucScore and auc curve\n",
        "probs = model.predict_proba(x_test)\n",
        "probs = probs[:, 1]\n",
        "auc = roc_auc_score(y_test, probs)\n",
        "print('AUC: %.3f' % auc)\n",
        "fpr, tpr, thresholds = roc_curve(y_test, probs)\n",
        "pyplot.plot([0, 1], [0, 1], linestyle='--')\n",
        "pyplot.plot(fpr, tpr, marker='.')\n",
        "pyplot.show()\n",
        "\n",
        "model = GaussianNB()\n",
        "model.fit(x_train, y_train)     \n",
        "pred3 = model.predict(x_test)     \n",
        "print(accuracy_score(y_test,pred3))\n",
        "\n",
        "# get AucScore and auc curve\n",
        "probs = model.predict_proba(x_test)\n",
        "probs = probs[:, 1]\n",
        "auc = roc_auc_score(y_test, probs)\n",
        "print('AUC: %.3f' % auc)\n",
        "fpr, tpr, thresholds = roc_curve(y_test, probs)\n",
        "pyplot.plot([0, 1], [0, 1], linestyle='--')\n",
        "pyplot.plot(fpr, tpr, marker='.')\n",
        "pyplot.show()\n",
        "\n",
        "model = LogisticRegression() \n",
        "model.fit(x_train, y_train)\n",
        "pred4 = model.predict(x_test)\n",
        "print(accuracy_score(y_test,pred4))\n",
        "\n",
        "# get AucScore and auc curve\n",
        "probs = model.predict_proba(x_test)\n",
        "probs = probs[:, 1]\n",
        "auc = roc_auc_score(y_test, probs)\n",
        "print('AUC: %.3f' % auc)\n",
        "fpr, tpr, thresholds = roc_curve(y_test, probs)\n",
        "pyplot.plot([0, 1], [0, 1], linestyle='--')\n",
        "pyplot.plot(fpr, tpr, marker='.')\n",
        "pyplot.show()\n",
        "\n",
        "model = MLPClassifier(1)\n",
        "model.fit(x_train, y_train)     \n",
        "pred5 = model.predict(x_test)\n",
        "print(accuracy_score(y_test,pred5))\n",
        "# get AucScore and auc curve\n",
        "probs = model.predict_proba(x_test)\n",
        "probs = probs[:, 1]\n",
        "auc = roc_auc_score(y_test, probs)\n",
        "print('AUC: %.3f' % auc)\n",
        "fpr, tpr, thresholds = roc_curve(y_test, probs)\n",
        "pyplot.plot([0, 1], [0, 1], linestyle='--')\n",
        "pyplot.plot(fpr, tpr, marker='.')\n",
        "pyplot.show()\n",
        "\n",
        "model = AdaBoostClassifier()\n",
        "model.fit(x_train, y_train)     \n",
        "pred6 = model.predict(x_test)\n",
        "print(accuracy_score(y_test,pred6))\n",
        "# get AucScore and auc curve\n",
        "probs = model.predict_proba(x_test)\n",
        "probs = probs[:, 1]\n",
        "auc = roc_auc_score(y_test, probs)\n",
        "print('AUC: %.3f' % auc)\n",
        "fpr, tpr, thresholds = roc_curve(y_test, probs)\n",
        "pyplot.plot([0, 1], [0, 1], linestyle='--')\n",
        "pyplot.plot(fpr, tpr, marker='.')\n",
        "pyplot.show()"
      ],
      "execution_count": 0,
      "outputs": [
        {
          "output_type": "stream",
          "text": [
            "0.7021391071836176\n",
            "AUC: 0.544\n"
          ],
          "name": "stdout"
        },
        {
          "output_type": "display_data",
          "data": {
            "image/png": "[encoded data removed]",
            "text/plain": [
              "<Figure size 432x288 with 1 Axes>"
            ]
          },
          "metadata": {
            "tags": []
          }
        },
        {
          "output_type": "stream",
          "text": [
            "0.7802904316257432\n",
            "AUC: 0.559\n"
          ],
          "name": "stdout"
        },
        {
          "output_type": "display_data",
          "data": {
            "image/png": "[encoded data removed]",
            "text/plain": [
              "<Figure size 432x288 with 1 Axes>"
            ]
          },
          "metadata": {
            "tags": []
          }
        },
        {
          "output_type": "stream",
          "text": [
            "0.803099966304714\n",
            "AUC: 0.601\n"
          ],
          "name": "stdout"
        },
        {
          "output_type": "display_data",
          "data": {
            "image/png": "[encoded data removed]",
            "text/plain": [
              "<Figure size 432x288 with 1 Axes>"
            ]
          },
          "metadata": {
            "tags": []
          }
        },
        {
          "output_type": "stream",
          "text": [
            "0.8031189878370887\n",
            "AUC: 0.578\n"
          ],
          "name": "stdout"
        },
        {
          "output_type": "display_data",
          "data": {
            "image/png": "[encoded data removed]",
            "text/plain": [
              "<Figure size 432x288 with 1 Axes>"
            ]
          },
          "metadata": {
            "tags": []
          }
        },
        {
          "output_type": "stream",
          "text": [
            "0.8035456136346344\n",
            "AUC: 0.500\n"
          ],
          "name": "stdout"
        },
        {
          "output_type": "display_data",
          "data": {
            "image/png": "[encoded data removed]",
            "text/plain": [
              "<Figure size 432x288 with 1 Axes>"
            ]
          },
          "metadata": {
            "tags": []
          }
        },
        {
          "output_type": "stream",
          "text": [
            "0.8050075542657145\n",
            "AUC: 0.688\n"
          ],
          "name": "stdout"
        },
        {
          "output_type": "display_data",
          "data": {
            "image/png": "[encoded data removed]",
            "text/plain": [
              "<Figure size 432x288 with 1 Axes>"
            ]
          },
          "metadata": {
            "tags": []
          }
        }
      ]
    },
    {
      "cell_type": "code",
      "metadata": {
        "id": "MmUpIiDhEhof",
        "colab_type": "code",
        "colab": {}
      },
      "source": [
        "def AUC_Curve(x_test,y_test):\n",
        "    "
      ],
      "execution_count": 0,
      "outputs": []
    },
    {
      "cell_type": "code",
      "metadata": {
        "id": "8Y16zeSREhok",
        "colab_type": "code",
        "outputId": "b0839937-ef5b-4837-d410-603cfa6b09f9",
        "colab": {}
      },
      "source": [
        "from sklearn.ensemble import GradientBoostingClassifier\n",
        "model =  GradientBoostingClassifier()\n",
        "model.fit(x_train, y_train)     \n",
        "pred7 = model.predict(x_test)\n",
        "print(accuracy_score(y_test,pred6))\n",
        "# get AucScore and auc curve\n",
        "probs = model.predict_proba(x_test)\n",
        "probs = probs[:, 1]\n",
        "auc = roc_auc_score(y_test, probs)\n",
        "print('AUC: %.3f' % auc)\n",
        "fpr, tpr, thresholds = roc_curve(y_test, probs)\n",
        "pyplot.plot([0, 1], [0, 1], linestyle='--')\n",
        "pyplot.plot(fpr, tpr, marker='.')\n",
        "pyplot.show()"
      ],
      "execution_count": 0,
      "outputs": [
        {
          "output_type": "stream",
          "text": [
            "0.8050075542657145\n",
            "AUC: 0.694\n"
          ],
          "name": "stdout"
        },
        {
          "output_type": "display_data",
          "data": {
            "image/png": "[encoded data removed]",
            "text/plain": [
              "<Figure size 432x288 with 1 Axes>"
            ]
          },
          "metadata": {
            "tags": []
          }
        }
      ]
    },
    {
      "cell_type": "code",
      "metadata": {
        "id": "1ujo-GCoEhon",
        "colab_type": "code",
        "colab": {}
      },
      "source": [
        "#lst = list(zip(pred1,pred2,pred3,pred4,pred5,pred6))\n",
        "lst = list(zip(pred2,pred3,pred4,pred7,pred6,pred1))\n",
        "df = pd.DataFrame(lst)"
      ],
      "execution_count": 0,
      "outputs": []
    },
    {
      "cell_type": "code",
      "metadata": {
        "id": "FXOLCdarEhoq",
        "colab_type": "code",
        "colab": {}
      },
      "source": [
        "def classify(data,c=3):\n",
        "    value = data.values\n",
        "    n = len(value)\n",
        "    m = len(value[0])\n",
        "    lst = []\n",
        "    for i in range(n):\n",
        "        count=0\n",
        "        for j in range(m):\n",
        "            if value[i,j]==1:\n",
        "                count+=1\n",
        "        if count >= c:\n",
        "            lst.append(1)\n",
        "        else:\n",
        "            lst.append(0)\n",
        "    arr = np.array(lst)\n",
        "    arr.reshape(n,)\n",
        "    return arr"
      ],
      "execution_count": 0,
      "outputs": []
    },
    {
      "cell_type": "code",
      "metadata": {
        "id": "AHwn1ik5Ehov",
        "colab_type": "code",
        "colab": {}
      },
      "source": [
        "pred = classify(df,c=6)"
      ],
      "execution_count": 0,
      "outputs": []
    },
    {
      "cell_type": "code",
      "metadata": {
        "id": "LcD13xeiEhoy",
        "colab_type": "code",
        "outputId": "bfbd6d52-5a5a-43dd-a61b-d809516e38a7",
        "colab": {}
      },
      "source": [
        "accuracy_score(y_test,pred)"
      ],
      "execution_count": 0,
      "outputs": [
        {
          "output_type": "execute_result",
          "data": {
            "text/plain": [
              "0.6840034347452745"
            ]
          },
          "metadata": {
            "tags": []
          },
          "execution_count": 75
        }
      ]
    },
    {
      "cell_type": "code",
      "metadata": {
        "id": "2K9dMvNmEho2",
        "colab_type": "code",
        "outputId": "b2c603fc-0cd7-435e-c08b-0363621e2b2d",
        "colab": {}
      },
      "source": [
        "import numpy as np\n",
        "from sklearn import metrics\n",
        "fpr, tpr, thresholds = metrics.roc_curve(y_test, pred)\n",
        "metrics.auc(fpr, tpr)"
      ],
      "execution_count": 0,
      "outputs": [
        {
          "output_type": "execute_result",
          "data": {
            "text/plain": [
              "0.5600381413900708"
            ]
          },
          "metadata": {
            "tags": []
          },
          "execution_count": 76
        }
      ]
    },
    {
      "cell_type": "code",
      "metadata": {
        "id": "n5MFriXKEho6",
        "colab_type": "code",
        "outputId": "d778906d-34d8-4a4b-b1c7-0f1392359a62",
        "colab": {}
      },
      "source": [
        "count=0\n",
        "for i in pred7:\n",
        "    if i==1:\n",
        "        count+=1\n",
        "n = len(pred)\n",
        "count/n"
      ],
      "execution_count": 0,
      "outputs": [
        {
          "output_type": "execute_result",
          "data": {
            "text/plain": [
              "0.9854566798186977"
            ]
          },
          "metadata": {
            "tags": []
          },
          "execution_count": 62
        }
      ]
    },
    {
      "cell_type": "markdown",
      "metadata": {
        "id": "g_PX_3AKEho8",
        "colab_type": "text"
      },
      "source": [
        "# applying stacking "
      ]
    },
    {
      "cell_type": "code",
      "metadata": {
        "id": "PiCejboDEho9",
        "colab_type": "code",
        "outputId": "18fc2020-8f6f-4f63-9854-12addc10c893",
        "colab": {}
      },
      "source": [
        "model = LogisticRegression() \n",
        "model.fit(x_train, y_train)\n",
        "pred_train = model.predict(x_train)\n",
        "pred_test = model.predict(x_test)\n",
        "print(accuracy_score(y_test,pred4))"
      ],
      "execution_count": 0,
      "outputs": [
        {
          "output_type": "stream",
          "text": [
            "/home/curaj/.local/lib/python3.6/site-packages/sklearn/linear_model/logistic.py:432: FutureWarning: Default solver will be changed to 'lbfgs' in 0.22. Specify a solver to silence this warning.\n",
            "  FutureWarning)\n"
          ],
          "name": "stderr"
        },
        {
          "output_type": "stream",
          "text": [
            "0.8037494157672199\n"
          ],
          "name": "stdout"
        }
      ]
    },
    {
      "cell_type": "code",
      "metadata": {
        "id": "91z6F5BqEhpA",
        "colab_type": "code",
        "colab": {}
      },
      "source": [
        "x_train.insert(loc=1,column='pred',value=pred_train)\n",
        "x_test.insert(loc=1,column='pred',value=pred_test)"
      ],
      "execution_count": 0,
      "outputs": []
    },
    {
      "cell_type": "code",
      "metadata": {
        "id": "J0g3THBAEhpD",
        "colab_type": "code",
        "outputId": "6792fb0a-eaf4-4b66-bcfd-00534f18fac3",
        "colab": {}
      },
      "source": [
        "model = MLPClassifier(1)\n",
        "model.fit(x_train, y_train)     \n",
        "pred_train = model.predict(x_train)\n",
        "pred_test = model.predict(x_test)\n",
        "print(accuracy_score(y_test,pred_test))"
      ],
      "execution_count": 0,
      "outputs": [
        {
          "output_type": "stream",
          "text": [
            "0.8042385408854251\n"
          ],
          "name": "stdout"
        }
      ]
    },
    {
      "cell_type": "code",
      "metadata": {
        "id": "SYxaiVJVEhpG",
        "colab_type": "code",
        "colab": {}
      },
      "source": [
        "x_train.insert(loc=1,column='pred2',value=pred_train)\n",
        "x_test.insert(loc=1,column='pred2',value=pred_test)"
      ],
      "execution_count": 0,
      "outputs": []
    },
    {
      "cell_type": "code",
      "metadata": {
        "id": "0dQmgu0nEhpI",
        "colab_type": "code",
        "outputId": "5cdf1e98-21e2-498f-df41-a1497732963a",
        "colab": {}
      },
      "source": [
        "model = LogisticRegression() \n",
        "model.fit(x_train, y_train)\n",
        "pred = model.predict(x_test)\n",
        "print(accuracy_score(y_test,pred))"
      ],
      "execution_count": 0,
      "outputs": [
        {
          "output_type": "stream",
          "text": [
            "/home/curaj/.local/lib/python3.6/site-packages/sklearn/linear_model/logistic.py:432: FutureWarning: Default solver will be changed to 'lbfgs' in 0.22. Specify a solver to silence this warning.\n",
            "  FutureWarning)\n"
          ],
          "name": "stderr"
        },
        {
          "output_type": "stream",
          "text": [
            "0.8040782165411245\n"
          ],
          "name": "stdout"
        }
      ]
    },
    {
      "cell_type": "code",
      "metadata": {
        "id": "GhHM-RBfEhpK",
        "colab_type": "code",
        "outputId": "4b54a671-0be2-492e-89bc-f32759dce5c6",
        "colab": {}
      },
      "source": [
        "x_train.drop('Unnamed: 0',axis=1,inplace=True)\n",
        "x_test.drop('Unnamed: 0',axis=1,inplace=True)"
      ],
      "execution_count": 0,
      "outputs": [
        {
          "output_type": "error",
          "ename": "KeyError",
          "evalue": "\"['Unnamed: 0'] not found in axis\"",
          "traceback": [
            "\u001b[0;31m---------------------------------------------------------------------------\u001b[0m",
            "\u001b[0;31mKeyError\u001b[0m                                  Traceback (most recent call last)",
            "\u001b[0;32m<ipython-input-20-bc9542366a75>\u001b[0m in \u001b[0;36m<module>\u001b[0;34m\u001b[0m\n\u001b[0;32m----> 1\u001b[0;31m \u001b[0mx_train\u001b[0m\u001b[0;34m.\u001b[0m\u001b[0mdrop\u001b[0m\u001b[0;34m(\u001b[0m\u001b[0;34m'Unnamed: 0'\u001b[0m\u001b[0;34m,\u001b[0m\u001b[0maxis\u001b[0m\u001b[0;34m=\u001b[0m\u001b[0;36m1\u001b[0m\u001b[0;34m,\u001b[0m\u001b[0minplace\u001b[0m\u001b[0;34m=\u001b[0m\u001b[0;32mTrue\u001b[0m\u001b[0;34m)\u001b[0m\u001b[0;34m\u001b[0m\u001b[0m\n\u001b[0m\u001b[1;32m      2\u001b[0m \u001b[0mx_test\u001b[0m\u001b[0;34m.\u001b[0m\u001b[0mdrop\u001b[0m\u001b[0;34m(\u001b[0m\u001b[0;34m'Unnamed: 0'\u001b[0m\u001b[0;34m,\u001b[0m\u001b[0maxis\u001b[0m\u001b[0;34m=\u001b[0m\u001b[0;36m1\u001b[0m\u001b[0;34m,\u001b[0m\u001b[0minplace\u001b[0m\u001b[0;34m=\u001b[0m\u001b[0;32mTrue\u001b[0m\u001b[0;34m)\u001b[0m\u001b[0;34m\u001b[0m\u001b[0m\n",
            "\u001b[0;32m~/.local/lib/python3.6/site-packages/pandas/core/frame.py\u001b[0m in \u001b[0;36mdrop\u001b[0;34m(self, labels, axis, index, columns, level, inplace, errors)\u001b[0m\n\u001b[1;32m   3695\u001b[0m                                            \u001b[0mindex\u001b[0m\u001b[0;34m=\u001b[0m\u001b[0mindex\u001b[0m\u001b[0;34m,\u001b[0m \u001b[0mcolumns\u001b[0m\u001b[0;34m=\u001b[0m\u001b[0mcolumns\u001b[0m\u001b[0;34m,\u001b[0m\u001b[0;34m\u001b[0m\u001b[0m\n\u001b[1;32m   3696\u001b[0m                                            \u001b[0mlevel\u001b[0m\u001b[0;34m=\u001b[0m\u001b[0mlevel\u001b[0m\u001b[0;34m,\u001b[0m \u001b[0minplace\u001b[0m\u001b[0;34m=\u001b[0m\u001b[0minplace\u001b[0m\u001b[0;34m,\u001b[0m\u001b[0;34m\u001b[0m\u001b[0m\n\u001b[0;32m-> 3697\u001b[0;31m                                            errors=errors)\n\u001b[0m\u001b[1;32m   3698\u001b[0m \u001b[0;34m\u001b[0m\u001b[0m\n\u001b[1;32m   3699\u001b[0m     @rewrite_axis_style_signature('mapper', [('copy', True),\n",
            "\u001b[0;32m~/.local/lib/python3.6/site-packages/pandas/core/generic.py\u001b[0m in \u001b[0;36mdrop\u001b[0;34m(self, labels, axis, index, columns, level, inplace, errors)\u001b[0m\n\u001b[1;32m   3109\u001b[0m         \u001b[0;32mfor\u001b[0m \u001b[0maxis\u001b[0m\u001b[0;34m,\u001b[0m \u001b[0mlabels\u001b[0m \u001b[0;32min\u001b[0m \u001b[0maxes\u001b[0m\u001b[0;34m.\u001b[0m\u001b[0mitems\u001b[0m\u001b[0;34m(\u001b[0m\u001b[0;34m)\u001b[0m\u001b[0;34m:\u001b[0m\u001b[0;34m\u001b[0m\u001b[0m\n\u001b[1;32m   3110\u001b[0m             \u001b[0;32mif\u001b[0m \u001b[0mlabels\u001b[0m \u001b[0;32mis\u001b[0m \u001b[0;32mnot\u001b[0m \u001b[0;32mNone\u001b[0m\u001b[0;34m:\u001b[0m\u001b[0;34m\u001b[0m\u001b[0m\n\u001b[0;32m-> 3111\u001b[0;31m                 \u001b[0mobj\u001b[0m \u001b[0;34m=\u001b[0m \u001b[0mobj\u001b[0m\u001b[0;34m.\u001b[0m\u001b[0m_drop_axis\u001b[0m\u001b[0;34m(\u001b[0m\u001b[0mlabels\u001b[0m\u001b[0;34m,\u001b[0m \u001b[0maxis\u001b[0m\u001b[0;34m,\u001b[0m \u001b[0mlevel\u001b[0m\u001b[0;34m=\u001b[0m\u001b[0mlevel\u001b[0m\u001b[0;34m,\u001b[0m \u001b[0merrors\u001b[0m\u001b[0;34m=\u001b[0m\u001b[0merrors\u001b[0m\u001b[0;34m)\u001b[0m\u001b[0;34m\u001b[0m\u001b[0m\n\u001b[0m\u001b[1;32m   3112\u001b[0m \u001b[0;34m\u001b[0m\u001b[0m\n\u001b[1;32m   3113\u001b[0m         \u001b[0;32mif\u001b[0m \u001b[0minplace\u001b[0m\u001b[0;34m:\u001b[0m\u001b[0;34m\u001b[0m\u001b[0m\n",
            "\u001b[0;32m~/.local/lib/python3.6/site-packages/pandas/core/generic.py\u001b[0m in \u001b[0;36m_drop_axis\u001b[0;34m(self, labels, axis, level, errors)\u001b[0m\n\u001b[1;32m   3141\u001b[0m                 \u001b[0mnew_axis\u001b[0m \u001b[0;34m=\u001b[0m \u001b[0maxis\u001b[0m\u001b[0;34m.\u001b[0m\u001b[0mdrop\u001b[0m\u001b[0;34m(\u001b[0m\u001b[0mlabels\u001b[0m\u001b[0;34m,\u001b[0m \u001b[0mlevel\u001b[0m\u001b[0;34m=\u001b[0m\u001b[0mlevel\u001b[0m\u001b[0;34m,\u001b[0m \u001b[0merrors\u001b[0m\u001b[0;34m=\u001b[0m\u001b[0merrors\u001b[0m\u001b[0;34m)\u001b[0m\u001b[0;34m\u001b[0m\u001b[0m\n\u001b[1;32m   3142\u001b[0m             \u001b[0;32melse\u001b[0m\u001b[0;34m:\u001b[0m\u001b[0;34m\u001b[0m\u001b[0m\n\u001b[0;32m-> 3143\u001b[0;31m                 \u001b[0mnew_axis\u001b[0m \u001b[0;34m=\u001b[0m \u001b[0maxis\u001b[0m\u001b[0;34m.\u001b[0m\u001b[0mdrop\u001b[0m\u001b[0;34m(\u001b[0m\u001b[0mlabels\u001b[0m\u001b[0;34m,\u001b[0m \u001b[0merrors\u001b[0m\u001b[0;34m=\u001b[0m\u001b[0merrors\u001b[0m\u001b[0;34m)\u001b[0m\u001b[0;34m\u001b[0m\u001b[0m\n\u001b[0m\u001b[1;32m   3144\u001b[0m             \u001b[0mresult\u001b[0m \u001b[0;34m=\u001b[0m \u001b[0mself\u001b[0m\u001b[0;34m.\u001b[0m\u001b[0mreindex\u001b[0m\u001b[0;34m(\u001b[0m\u001b[0;34m**\u001b[0m\u001b[0;34m{\u001b[0m\u001b[0maxis_name\u001b[0m\u001b[0;34m:\u001b[0m \u001b[0mnew_axis\u001b[0m\u001b[0;34m}\u001b[0m\u001b[0;34m)\u001b[0m\u001b[0;34m\u001b[0m\u001b[0m\n\u001b[1;32m   3145\u001b[0m \u001b[0;34m\u001b[0m\u001b[0m\n",
            "\u001b[0;32m~/.local/lib/python3.6/site-packages/pandas/core/indexes/base.py\u001b[0m in \u001b[0;36mdrop\u001b[0;34m(self, labels, errors)\u001b[0m\n\u001b[1;32m   4402\u001b[0m             \u001b[0;32mif\u001b[0m \u001b[0merrors\u001b[0m \u001b[0;34m!=\u001b[0m \u001b[0;34m'ignore'\u001b[0m\u001b[0;34m:\u001b[0m\u001b[0;34m\u001b[0m\u001b[0m\n\u001b[1;32m   4403\u001b[0m                 raise KeyError(\n\u001b[0;32m-> 4404\u001b[0;31m                     '{} not found in axis'.format(labels[mask]))\n\u001b[0m\u001b[1;32m   4405\u001b[0m             \u001b[0mindexer\u001b[0m \u001b[0;34m=\u001b[0m \u001b[0mindexer\u001b[0m\u001b[0;34m[\u001b[0m\u001b[0;34m~\u001b[0m\u001b[0mmask\u001b[0m\u001b[0;34m]\u001b[0m\u001b[0;34m\u001b[0m\u001b[0m\n\u001b[1;32m   4406\u001b[0m         \u001b[0;32mreturn\u001b[0m \u001b[0mself\u001b[0m\u001b[0;34m.\u001b[0m\u001b[0mdelete\u001b[0m\u001b[0;34m(\u001b[0m\u001b[0mindexer\u001b[0m\u001b[0;34m)\u001b[0m\u001b[0;34m\u001b[0m\u001b[0m\n",
            "\u001b[0;31mKeyError\u001b[0m: \"['Unnamed: 0'] not found in axis\""
          ]
        }
      ]
    },
    {
      "cell_type": "code",
      "metadata": {
        "id": "3y3jRC3fEhpX",
        "colab_type": "code",
        "outputId": "0ea6da83-50ea-40f7-c2e4-03ebedbaa075",
        "colab": {}
      },
      "source": [
        "model = AdaBoostClassifier()\n",
        "model.fit(x_train, y_train)     \n",
        "pred6 = model.predict(x_test)\n",
        "print(accuracy_score(y_test,pred6))"
      ],
      "execution_count": 0,
      "outputs": [
        {
          "output_type": "stream",
          "text": [
            "0.8052521168248171\n"
          ],
          "name": "stdout"
        }
      ]
    },
    {
      "cell_type": "markdown",
      "metadata": {
        "id": "Hmfz8VMIEhpa",
        "colab_type": "text"
      },
      "source": [
        "# SMOTE"
      ]
    },
    {
      "cell_type": "code",
      "metadata": {
        "id": "cZKa9zrIEhpb",
        "colab_type": "code",
        "colab": {}
      },
      "source": [
        "from imblearn.over_sampling import SMOTE\n",
        "sm = SMOTE(random_state=42)\n",
        "xx,yy =sm.fit_resample(x_train,y_train)"
      ],
      "execution_count": 0,
      "outputs": []
    },
    {
      "cell_type": "code",
      "metadata": {
        "id": "1gzRBO6VEhpd",
        "colab_type": "code",
        "outputId": "c3e1c5f6-f528-487a-fb73-baebef93b4ce",
        "colab": {}
      },
      "source": [
        "len(xx)"
      ],
      "execution_count": 0,
      "outputs": [
        {
          "output_type": "execute_result",
          "data": {
            "text/plain": [
              "1379942"
            ]
          },
          "metadata": {
            "tags": []
          },
          "execution_count": 15
        }
      ]
    },
    {
      "cell_type": "code",
      "metadata": {
        "id": "xCuJeTD5Ehpi",
        "colab_type": "code",
        "outputId": "c9c6bcc4-a415-4fa1-f1f0-a8db083640fa",
        "colab": {}
      },
      "source": [
        "len(x_train)"
      ],
      "execution_count": 0,
      "outputs": [
        {
          "output_type": "execute_result",
          "data": {
            "text/plain": [
              "858673"
            ]
          },
          "metadata": {
            "tags": []
          },
          "execution_count": 16
        }
      ]
    },
    {
      "cell_type": "code",
      "metadata": {
        "id": "z6BCqS7vEhpn",
        "colab_type": "code",
        "outputId": "92e03448-86fc-4f52-ae1b-46b5a721faba",
        "colab": {}
      },
      "source": [
        "model = AdaBoostClassifier()\n",
        "model.fit(xx, yy)     \n",
        "pred6 = model.predict(x_test)\n",
        "print(accuracy_score(y_test,pred6))\n",
        "# get AucScore and auc curve\n",
        "probs = model.predict_proba(x_test)\n",
        "probs = probs[:, 1]\n",
        "auc = roc_auc_score(y_test, probs)\n",
        "print('AUC: %.3f' % auc)\n",
        "fpr, tpr, thresholds = roc_curve(y_test, probs)\n",
        "pyplot.plot([0, 1], [0, 1], linestyle='--')\n",
        "pyplot.plot(fpr, tpr, marker='.')\n",
        "pyplot.show()"
      ],
      "execution_count": 0,
      "outputs": [
        {
          "output_type": "stream",
          "text": [
            "0.7815648742948447\n",
            "AUC: 0.657\n"
          ],
          "name": "stdout"
        },
        {
          "output_type": "display_data",
          "data": {
            "image/png": "[encoded data removed]",
            "text/plain": [
              "<Figure size 432x288 with 1 Axes>"
            ]
          },
          "metadata": {
            "tags": [],
            "needs_background": "light"
          }
        }
      ]
    },
    {
      "cell_type": "code",
      "metadata": {
        "id": "uVluieG8Ehpq",
        "colab_type": "code",
        "outputId": "43491ed2-bf11-4dbd-a123-d595a55a910f",
        "colab": {}
      },
      "source": [
        "from sklearn.ensemble import GradientBoostingClassifier\n",
        "model =  GradientBoostingClassifier()\n",
        "model.fit(xx, yy)     \n",
        "pred6 = model.predict(x_test)\n",
        "print(accuracy_score(y_test,pred6))\n",
        "# get AucScore and auc curve\n",
        "probs = model.predict_proba(x_test)\n",
        "probs = probs[:, 1]\n",
        "auc = roc_auc_score(y_test, probs)\n",
        "print('AUC: %.3f' % auc)\n",
        "fpr, tpr, thresholds = roc_curve(y_test, probs)\n",
        "pyplot.plot([0, 1], [0, 1], linestyle='--')\n",
        "pyplot.plot(fpr, tpr, marker='.')\n",
        "pyplot.show()"
      ],
      "execution_count": 0,
      "outputs": [
        {
          "output_type": "stream",
          "text": [
            "0.8042303888001218\n",
            "AUC: 0.681\n"
          ],
          "name": "stdout"
        },
        {
          "output_type": "display_data",
          "data": {
            "image/png": "[encoded data removed]",
            "text/plain": [
              "<Figure size 432x288 with 1 Axes>"
            ]
          },
          "metadata": {
            "tags": [],
            "needs_background": "light"
          }
        }
      ]
    },
    {
      "cell_type": "markdown",
      "metadata": {
        "id": "FuCcwCmpEhpt",
        "colab_type": "text"
      },
      "source": [
        "# undersampleing"
      ]
    },
    {
      "cell_type": "code",
      "metadata": {
        "id": "9XXJ_lqNEhpw",
        "colab_type": "code",
        "colab": {}
      },
      "source": [
        "from imblearn.under_sampling import ClusterCentroids\n",
        "cc = ClusterCentroids(random_state=41)\n",
        "xx1,yy1 =sm.fit_resample(x_train,y_train)"
      ],
      "execution_count": 0,
      "outputs": []
    },
    {
      "cell_type": "code",
      "metadata": {
        "id": "AZnC3j2tEhpy",
        "colab_type": "code",
        "outputId": "df3d7a04-5018-4822-8754-8999c40fba3b",
        "colab": {}
      },
      "source": [
        "model = AdaBoostClassifier()\n",
        "model.fit(xx1, yy1)     \n",
        "pred6 = model.predict(x_test)\n",
        "print(accuracy_score(y_test,pred6))\n",
        "# get AucScore and auc curve\n",
        "probs = model.predict_proba(x_test)\n",
        "probs = probs[:, 1]\n",
        "auc = roc_auc_score(y_test, probs)\n",
        "print('AUC: %.3f' % auc)\n",
        "fpr, tpr, thresholds = roc_curve(y_test, probs)\n",
        "pyplot.plot([0, 1], [0, 1], linestyle='--')\n",
        "pyplot.plot(fpr, tpr, marker='.')\n",
        "pyplot.show()"
      ],
      "execution_count": 0,
      "outputs": [
        {
          "output_type": "stream",
          "text": [
            "0.7815648742948447\n",
            "AUC: 0.657\n"
          ],
          "name": "stdout"
        },
        {
          "output_type": "display_data",
          "data": {
            "image/png": "[encoded data removed]",
            "text/plain": [
              "<Figure size 432x288 with 1 Axes>"
            ]
          },
          "metadata": {
            "tags": [],
            "needs_background": "light"
          }
        }
      ]
    },
    {
      "cell_type": "code",
      "metadata": {
        "id": "WN0CqX2pEhp0",
        "colab_type": "code",
        "outputId": "48ae87f9-d05d-4deb-df94-9a8d72b00fda",
        "colab": {}
      },
      "source": [
        "len(yy1)"
      ],
      "execution_count": 0,
      "outputs": [
        {
          "output_type": "execute_result",
          "data": {
            "text/plain": [
              "1379456"
            ]
          },
          "metadata": {
            "tags": []
          },
          "execution_count": 35
        }
      ]
    },
    {
      "cell_type": "code",
      "metadata": {
        "id": "sID7Jv3WEhp3",
        "colab_type": "code",
        "colab": {}
      },
      "source": [
        ""
      ],
      "execution_count": 0,
      "outputs": []
    }
  ]
}