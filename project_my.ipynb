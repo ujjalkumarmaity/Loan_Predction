{
  "nbformat": 4,
  "nbformat_minor": 0,
  "metadata": {
    "colab": {
      "name": "project_my.ipynb",
      "provenance": [],
      "toc_visible": true,
      "include_colab_link": true
    },
    "kernelspec": {
      "name": "python3",
      "display_name": "Python 3"
    }
  },
  "cells": [
    {
      "cell_type": "markdown",
      "metadata": {
        "id": "view-in-github",
        "colab_type": "text"
      },
      "source": [
        "<a href=\"https://colab.research.google.com/github/ujjalkumarmaity/Loan_Predction/blob/master/project_my.ipynb\" target=\"_parent\"><img src=\"https://colab.research.google.com/assets/colab-badge.svg\" alt=\"Open In Colab\"/></a>"
      ]
    },
    {
      "cell_type": "code",
      "metadata": {
        "id": "HD6dfeUbIvfl",
        "colab_type": "code",
        "colab": {}
      },
      "source": [
        "import pandas as pd\n",
        "import numpy as np"
      ],
      "execution_count": 0,
      "outputs": []
    },
    {
      "cell_type": "code",
      "metadata": {
        "id": "jgp5JMoNIy8l",
        "colab_type": "code",
        "outputId": "67276e16-86d4-4710-9a30-f74578d1fd10",
        "colab": {
          "base_uri": "https://localhost:8080/",
          "height": 129
        }
      },
      "source": [
        "from google.colab import drive\n",
        "drive.mount('/content/drive')"
      ],
      "execution_count": 4,
      "outputs": [
        {
          "output_type": "stream",
          "text": [
            "Go to this URL in a browser: https://accounts.google.com/o/oauth2/auth?client_id=947318989803-6bn6qk8qdgf4n4g3pfee6491hc0brc4i.apps.googleusercontent.com&redirect_uri=urn%3aietf%3awg%3aoauth%3a2.0%3aoob&response_type=code&scope=email%20https%3a%2f%2fwww.googleapis.com%2fauth%2fdocs.test%20https%3a%2f%2fwww.googleapis.com%2fauth%2fdrive%20https%3a%2f%2fwww.googleapis.com%2fauth%2fdrive.photos.readonly%20https%3a%2f%2fwww.googleapis.com%2fauth%2fpeopleapi.readonly\n",
            "\n",
            "Enter your authorization code:\n",
            "··········\n",
            "Mounted at /content/drive\n"
          ],
          "name": "stdout"
        }
      ]
    },
    {
      "cell_type": "markdown",
      "metadata": {
        "id": "dj-KiiQZ_HEG",
        "colab_type": "text"
      },
      "source": [
        "# PREPROSSING"
      ]
    },
    {
      "cell_type": "code",
      "metadata": {
        "id": "B1WL7uPHI2AI",
        "colab_type": "code",
        "outputId": "123ac08d-6380-438b-a138-656cc5917938",
        "colab": {
          "base_uri": "https://localhost:8080/",
          "height": 330
        }
      },
      "source": [
        "data = pd.read_csv('/content/drive/My Drive/project/clean.csv')\n",
        "data.head()"
      ],
      "execution_count": 5,
      "outputs": [
        {
          "output_type": "execute_result",
          "data": {
            "text/html": [
              "<div>\n",
              "<style scoped>\n",
              "    .dataframe tbody tr th:only-of-type {\n",
              "        vertical-align: middle;\n",
              "    }\n",
              "\n",
              "    .dataframe tbody tr th {\n",
              "        vertical-align: top;\n",
              "    }\n",
              "\n",
              "    .dataframe thead th {\n",
              "        text-align: right;\n",
              "    }\n",
              "</style>\n",
              "<table border=\"1\" class=\"dataframe\">\n",
              "  <thead>\n",
              "    <tr style=\"text-align: right;\">\n",
              "      <th></th>\n",
              "      <th>Unnamed: 0</th>\n",
              "      <th>loan_amnt</th>\n",
              "      <th>term</th>\n",
              "      <th>emp_length</th>\n",
              "      <th>home_ownership</th>\n",
              "      <th>annual_inc</th>\n",
              "      <th>verification_status</th>\n",
              "      <th>loan_status</th>\n",
              "      <th>desc</th>\n",
              "      <th>purpose</th>\n",
              "      <th>dti</th>\n",
              "      <th>delinq_2yrs</th>\n",
              "      <th>earliest_cr_line</th>\n",
              "      <th>inq_last_6mths</th>\n",
              "      <th>open_acc</th>\n",
              "      <th>pub_rec</th>\n",
              "      <th>revol_util</th>\n",
              "      <th>total_acc</th>\n",
              "      <th>acc_now_delinq</th>\n",
              "      <th>chargeoff_within_12_mths</th>\n",
              "      <th>delinq_amnt</th>\n",
              "      <th>pub_rec_bankruptcies</th>\n",
              "      <th>tax_liens</th>\n",
              "    </tr>\n",
              "  </thead>\n",
              "  <tbody>\n",
              "    <tr>\n",
              "      <th>0</th>\n",
              "      <td>100</td>\n",
              "      <td>30000</td>\n",
              "      <td>36 months</td>\n",
              "      <td>5</td>\n",
              "      <td>MORTGAGE</td>\n",
              "      <td>100000.0</td>\n",
              "      <td>Source Verified</td>\n",
              "      <td>1</td>\n",
              "      <td>0.0</td>\n",
              "      <td>debt_consolidation</td>\n",
              "      <td>30.46</td>\n",
              "      <td>0.0</td>\n",
              "      <td>Jan-2012</td>\n",
              "      <td>0.0</td>\n",
              "      <td>11.0</td>\n",
              "      <td>1.0</td>\n",
              "      <td>37.0</td>\n",
              "      <td>19.0</td>\n",
              "      <td>0.0</td>\n",
              "      <td>0.0</td>\n",
              "      <td>0.0</td>\n",
              "      <td>1.0</td>\n",
              "      <td>0.0</td>\n",
              "    </tr>\n",
              "    <tr>\n",
              "      <th>1</th>\n",
              "      <td>152</td>\n",
              "      <td>40000</td>\n",
              "      <td>60 months</td>\n",
              "      <td>1</td>\n",
              "      <td>MORTGAGE</td>\n",
              "      <td>45000.0</td>\n",
              "      <td>Verified</td>\n",
              "      <td>1</td>\n",
              "      <td>0.0</td>\n",
              "      <td>credit_card</td>\n",
              "      <td>50.53</td>\n",
              "      <td>0.0</td>\n",
              "      <td>Jun-2009</td>\n",
              "      <td>0.0</td>\n",
              "      <td>18.0</td>\n",
              "      <td>0.0</td>\n",
              "      <td>64.5</td>\n",
              "      <td>37.0</td>\n",
              "      <td>0.0</td>\n",
              "      <td>0.0</td>\n",
              "      <td>0.0</td>\n",
              "      <td>0.0</td>\n",
              "      <td>0.0</td>\n",
              "    </tr>\n",
              "    <tr>\n",
              "      <th>2</th>\n",
              "      <td>170</td>\n",
              "      <td>20000</td>\n",
              "      <td>36 months</td>\n",
              "      <td>10</td>\n",
              "      <td>MORTGAGE</td>\n",
              "      <td>100000.0</td>\n",
              "      <td>Not Verified</td>\n",
              "      <td>1</td>\n",
              "      <td>0.0</td>\n",
              "      <td>credit_card</td>\n",
              "      <td>18.92</td>\n",
              "      <td>0.0</td>\n",
              "      <td>Feb-1999</td>\n",
              "      <td>0.0</td>\n",
              "      <td>9.0</td>\n",
              "      <td>0.0</td>\n",
              "      <td>29.9</td>\n",
              "      <td>19.0</td>\n",
              "      <td>0.0</td>\n",
              "      <td>0.0</td>\n",
              "      <td>0.0</td>\n",
              "      <td>0.0</td>\n",
              "      <td>0.0</td>\n",
              "    </tr>\n",
              "    <tr>\n",
              "      <th>3</th>\n",
              "      <td>186</td>\n",
              "      <td>4500</td>\n",
              "      <td>36 months</td>\n",
              "      <td>10</td>\n",
              "      <td>RENT</td>\n",
              "      <td>38500.0</td>\n",
              "      <td>Not Verified</td>\n",
              "      <td>1</td>\n",
              "      <td>0.0</td>\n",
              "      <td>credit_card</td>\n",
              "      <td>4.64</td>\n",
              "      <td>0.0</td>\n",
              "      <td>Dec-2003</td>\n",
              "      <td>0.0</td>\n",
              "      <td>12.0</td>\n",
              "      <td>0.0</td>\n",
              "      <td>15.3</td>\n",
              "      <td>25.0</td>\n",
              "      <td>0.0</td>\n",
              "      <td>0.0</td>\n",
              "      <td>0.0</td>\n",
              "      <td>0.0</td>\n",
              "      <td>0.0</td>\n",
              "    </tr>\n",
              "    <tr>\n",
              "      <th>4</th>\n",
              "      <td>215</td>\n",
              "      <td>8425</td>\n",
              "      <td>36 months</td>\n",
              "      <td>3</td>\n",
              "      <td>MORTGAGE</td>\n",
              "      <td>450000.0</td>\n",
              "      <td>Verified</td>\n",
              "      <td>1</td>\n",
              "      <td>0.0</td>\n",
              "      <td>credit_card</td>\n",
              "      <td>12.37</td>\n",
              "      <td>0.0</td>\n",
              "      <td>Oct-1997</td>\n",
              "      <td>0.0</td>\n",
              "      <td>21.0</td>\n",
              "      <td>0.0</td>\n",
              "      <td>65.7</td>\n",
              "      <td>37.0</td>\n",
              "      <td>0.0</td>\n",
              "      <td>0.0</td>\n",
              "      <td>0.0</td>\n",
              "      <td>0.0</td>\n",
              "      <td>0.0</td>\n",
              "    </tr>\n",
              "  </tbody>\n",
              "</table>\n",
              "</div>"
            ],
            "text/plain": [
              "   Unnamed: 0  loan_amnt  ... pub_rec_bankruptcies  tax_liens\n",
              "0         100      30000  ...                  1.0        0.0\n",
              "1         152      40000  ...                  0.0        0.0\n",
              "2         170      20000  ...                  0.0        0.0\n",
              "3         186       4500  ...                  0.0        0.0\n",
              "4         215       8425  ...                  0.0        0.0\n",
              "\n",
              "[5 rows x 23 columns]"
            ]
          },
          "metadata": {
            "tags": []
          },
          "execution_count": 5
        }
      ]
    },
    {
      "cell_type": "code",
      "metadata": {
        "id": "nG48XanSJAam",
        "colab_type": "code",
        "outputId": "c7283124-a801-48f6-fc34-468a1b5c14e8",
        "colab": {
          "base_uri": "https://localhost:8080/",
          "height": 458
        }
      },
      "source": [
        "data.isnull().sum()"
      ],
      "execution_count": 6,
      "outputs": [
        {
          "output_type": "execute_result",
          "data": {
            "text/plain": [
              "Unnamed: 0                    0\n",
              "loan_amnt                     0\n",
              "term                          0\n",
              "emp_length                    0\n",
              "home_ownership                0\n",
              "annual_inc                    0\n",
              "verification_status           0\n",
              "loan_status                   0\n",
              "desc                          0\n",
              "purpose                       0\n",
              "dti                          14\n",
              "delinq_2yrs                   0\n",
              "earliest_cr_line              0\n",
              "inq_last_6mths                1\n",
              "open_acc                      0\n",
              "pub_rec                       0\n",
              "revol_util                  762\n",
              "total_acc                     0\n",
              "acc_now_delinq                0\n",
              "chargeoff_within_12_mths     56\n",
              "delinq_amnt                   0\n",
              "pub_rec_bankruptcies        697\n",
              "tax_liens                    39\n",
              "dtype: int64"
            ]
          },
          "metadata": {
            "tags": []
          },
          "execution_count": 6
        }
      ]
    },
    {
      "cell_type": "code",
      "metadata": {
        "id": "NbWnVVAAQKPO",
        "colab_type": "code",
        "outputId": "eb85b573-321d-4c13-afeb-44305df1748d",
        "colab": {
          "base_uri": "https://localhost:8080/",
          "height": 458
        }
      },
      "source": [
        "data.dropna(inplace=True)\n",
        "data.isnull().sum()"
      ],
      "execution_count": 7,
      "outputs": [
        {
          "output_type": "execute_result",
          "data": {
            "text/plain": [
              "Unnamed: 0                  0\n",
              "loan_amnt                   0\n",
              "term                        0\n",
              "emp_length                  0\n",
              "home_ownership              0\n",
              "annual_inc                  0\n",
              "verification_status         0\n",
              "loan_status                 0\n",
              "desc                        0\n",
              "purpose                     0\n",
              "dti                         0\n",
              "delinq_2yrs                 0\n",
              "earliest_cr_line            0\n",
              "inq_last_6mths              0\n",
              "open_acc                    0\n",
              "pub_rec                     0\n",
              "revol_util                  0\n",
              "total_acc                   0\n",
              "acc_now_delinq              0\n",
              "chargeoff_within_12_mths    0\n",
              "delinq_amnt                 0\n",
              "pub_rec_bankruptcies        0\n",
              "tax_liens                   0\n",
              "dtype: int64"
            ]
          },
          "metadata": {
            "tags": []
          },
          "execution_count": 7
        }
      ]
    },
    {
      "cell_type": "code",
      "metadata": {
        "id": "o_N-G0LlJSgA",
        "colab_type": "code",
        "outputId": "d3d8e0a2-1d41-49c7-897f-6e0e7c75b5b5",
        "colab": {
          "base_uri": "https://localhost:8080/",
          "height": 458
        }
      },
      "source": [
        "from sklearn import preprocessing\n",
        "lavel_encoder=preprocessing.LabelEncoder()\n",
        "col=data.columns\n",
        "for i in col:\n",
        "  if data[i].dtype==object:\n",
        "    data[i]=lavel_encoder.fit_transform(data[i])\n",
        "data.dtypes"
      ],
      "execution_count": 8,
      "outputs": [
        {
          "output_type": "execute_result",
          "data": {
            "text/plain": [
              "Unnamed: 0                    int64\n",
              "loan_amnt                     int64\n",
              "term                          int64\n",
              "emp_length                    int64\n",
              "home_ownership                int64\n",
              "annual_inc                  float64\n",
              "verification_status           int64\n",
              "loan_status                   int64\n",
              "desc                        float64\n",
              "purpose                       int64\n",
              "dti                         float64\n",
              "delinq_2yrs                 float64\n",
              "earliest_cr_line              int64\n",
              "inq_last_6mths              float64\n",
              "open_acc                    float64\n",
              "pub_rec                     float64\n",
              "revol_util                  float64\n",
              "total_acc                   float64\n",
              "acc_now_delinq              float64\n",
              "chargeoff_within_12_mths    float64\n",
              "delinq_amnt                 float64\n",
              "pub_rec_bankruptcies        float64\n",
              "tax_liens                   float64\n",
              "dtype: object"
            ]
          },
          "metadata": {
            "tags": []
          },
          "execution_count": 8
        }
      ]
    },
    {
      "cell_type": "markdown",
      "metadata": {
        "id": "B8-N4tq3PM54",
        "colab_type": "text"
      },
      "source": [
        "train test split"
      ]
    },
    {
      "cell_type": "code",
      "metadata": {
        "id": "zNfYHKRKLSY2",
        "colab_type": "code",
        "colab": {}
      },
      "source": [
        "from sklearn.model_selection import train_test_split\n",
        "x=data.drop(columns='loan_status',axis=1,inplace=False)\n",
        "y=data['loan_status']\n",
        "x_train,x_test,y_train,y_test=train_test_split(x,y,test_size=.33)"
      ],
      "execution_count": 0,
      "outputs": []
    },
    {
      "cell_type": "code",
      "metadata": {
        "id": "gYAg7SFyLyqi",
        "colab_type": "code",
        "colab": {}
      },
      "source": [
        ""
      ],
      "execution_count": 0,
      "outputs": []
    },
    {
      "cell_type": "markdown",
      "metadata": {
        "id": "PliDAivCQwkN",
        "colab_type": "text"
      },
      "source": [
        "# Logistic Regression"
      ]
    },
    {
      "cell_type": "code",
      "metadata": {
        "id": "DwB9bQR4N2RG",
        "colab_type": "code",
        "outputId": "f85a6430-4a3f-45df-9428-6391d6985625",
        "colab": {
          "base_uri": "https://localhost:8080/",
          "height": 110
        }
      },
      "source": [
        "from sklearn.linear_model import LogisticRegression\n",
        "from sklearn.metrics import accuracy_score\n",
        "model=LogisticRegression()\n",
        "model.fit(x_train,y_train)\n",
        "pred=model.predict(x_test)\n",
        "print('accuracy testing',accuracy_score(y_test,pred))\n",
        "pred=model.predict(x_train)\n",
        "print('accuracy train',accuracy_score(y_train,pred))\n"
      ],
      "execution_count": 0,
      "outputs": [
        {
          "output_type": "stream",
          "text": [
            "/usr/local/lib/python3.6/dist-packages/sklearn/linear_model/logistic.py:432: FutureWarning: Default solver will be changed to 'lbfgs' in 0.22. Specify a solver to silence this warning.\n",
            "  FutureWarning)\n"
          ],
          "name": "stderr"
        },
        {
          "output_type": "stream",
          "text": [
            "accuracy testing 0.8034209148130947\n",
            "accuracy train 0.8031216501819625\n"
          ],
          "name": "stdout"
        }
      ]
    },
    {
      "cell_type": "code",
      "metadata": {
        "id": "zIYycQeHPhgG",
        "colab_type": "code",
        "colab": {}
      },
      "source": [
        ""
      ],
      "execution_count": 0,
      "outputs": []
    },
    {
      "cell_type": "markdown",
      "metadata": {
        "id": "wr6w3V--U83G",
        "colab_type": "text"
      },
      "source": [
        "# KNN"
      ]
    },
    {
      "cell_type": "code",
      "metadata": {
        "id": "fqSGJoO0Sq61",
        "colab_type": "code",
        "outputId": "9a5f9106-0f01-4ffe-f3d4-379fef3520d7",
        "colab": {
          "base_uri": "https://localhost:8080/",
          "height": 54
        }
      },
      "source": [
        "from sklearn.neighbors import KNeighborsClassifier\n",
        "from sklearn.metrics import accuracy_score\n",
        "model=KNeighborsClassifier(n_neighbors=5)\n",
        "model.fit(x_train,y_train)\n",
        "predict_k=model.predict(x_test)\n",
        "print('accuracy test',accuracy_score(y_test,predict_k))\n",
        "pred=model.predict(x_train)\n",
        "print('accuracy train',accuracy_score(y_train,pred))"
      ],
      "execution_count": 0,
      "outputs": [
        {
          "output_type": "stream",
          "text": [
            "accuracy test 0.7702863608067114\n",
            "accuracy train 0.821995612460806\n"
          ],
          "name": "stdout"
        }
      ]
    },
    {
      "cell_type": "markdown",
      "metadata": {
        "id": "dmTd2apNjQ2B",
        "colab_type": "text"
      },
      "source": [
        "# CART "
      ]
    },
    {
      "cell_type": "code",
      "metadata": {
        "id": "dzk-BhckSvam",
        "colab_type": "code",
        "outputId": "e866b08d-5590-43ba-9463-5ad1ecd5ac1f",
        "colab": {
          "base_uri": "https://localhost:8080/",
          "height": 54
        }
      },
      "source": [
        "from sklearn import tree\n",
        "model = tree.DecisionTreeClassifier()\n",
        "model.fit(x_train,y_train)\n",
        "predict_k=model.predict(x_test)\n",
        "print('accuracy in test',accuracy_score(y_test,predict_k))\n",
        "predict_k=model.predict(x_train)\n",
        "print('accuracy in train',accuracy_score(y_train,predict_k))"
      ],
      "execution_count": 0,
      "outputs": [
        {
          "output_type": "stream",
          "text": [
            "accuracy in test 0.7017000820149999\n",
            "accuracy in train 1.0\n"
          ],
          "name": "stdout"
        }
      ]
    },
    {
      "cell_type": "code",
      "metadata": {
        "id": "dTwzEnFOjz_v",
        "colab_type": "code",
        "colab": {}
      },
      "source": [
        ""
      ],
      "execution_count": 0,
      "outputs": []
    },
    {
      "cell_type": "markdown",
      "metadata": {
        "id": "KLUZeI4QrqML",
        "colab_type": "text"
      },
      "source": [
        "# Naive Bayes"
      ]
    },
    {
      "cell_type": "code",
      "metadata": {
        "id": "X6g9cSfBmnkD",
        "colab_type": "code",
        "colab": {
          "base_uri": "https://localhost:8080/",
          "height": 54
        },
        "outputId": "39da1294-d63c-4495-cac5-f28ad418f254"
      },
      "source": [
        "from sklearn.naive_bayes import GaussianNB\n",
        "from sklearn.metrics import accuracy_score\n",
        "model=GaussianNB()\n",
        "model.fit(x_train,y_train)\n",
        "pred=model.predict(x_test)\n",
        "print('accuracy of test',accuracy_score(pred,y_test))\n",
        "pred_t=model.predict(x_train)\n",
        "print('accuracy of train',accuracy_score(pred_t,y_train))"
      ],
      "execution_count": 14,
      "outputs": [
        {
          "output_type": "stream",
          "text": [
            "accuracy of test 0.803144237705161\n",
            "accuracy of train 0.8031666693029215\n"
          ],
          "name": "stdout"
        }
      ]
    },
    {
      "cell_type": "code",
      "metadata": {
        "id": "a_CW2tHVsOXF",
        "colab_type": "code",
        "colab": {
          "base_uri": "https://localhost:8080/",
          "height": 35
        },
        "outputId": "7b3c1480-e32a-4e9d-de3b-1bfa77ca7ffe"
      },
      "source": [
        "pred=pred.tolist()\n",
        "pred.count(0)"
      ],
      "execution_count": 19,
      "outputs": [
        {
          "output_type": "execute_result",
          "data": {
            "text/plain": [
              "327"
            ]
          },
          "metadata": {
            "tags": []
          },
          "execution_count": 19
        }
      ]
    },
    {
      "cell_type": "markdown",
      "metadata": {
        "id": "whSxkrbMvj_k",
        "colab_type": "text"
      },
      "source": [
        "#Random Forest"
      ]
    },
    {
      "cell_type": "code",
      "metadata": {
        "id": "vD2BGmmpt19V",
        "colab_type": "code",
        "colab": {
          "base_uri": "https://localhost:8080/",
          "height": 110
        },
        "outputId": "d157cad4-2798-4f18-f905-309207da7400"
      },
      "source": [
        "from sklearn.ensemble import RandomForestClassifier\n",
        "from sklearn.metrics import accuracy_score\n",
        "model=RandomForestClassifier()\n",
        "model.fit(x_train,y_train)\n",
        "pred_test=model.predict(x_test)\n",
        "print('accuracy of test ',accuracy_score(pred_test,y_test))\n",
        "pred_train=model.predict(x_train)\n",
        "print('accuracy of train',accuracy_score(pred_train,y_train))"
      ],
      "execution_count": 23,
      "outputs": [
        {
          "output_type": "stream",
          "text": [
            "/usr/local/lib/python3.6/dist-packages/sklearn/ensemble/forest.py:245: FutureWarning: The default value of n_estimators will change from 10 in version 0.20 to 100 in 0.22.\n",
            "  \"10 in version 0.20 to 100 in 0.22.\", FutureWarning)\n"
          ],
          "name": "stderr"
        },
        {
          "output_type": "stream",
          "text": [
            "accuracy of test  0.7798663056689163\n",
            "accuracy of train 0.9920681175802101\n"
          ],
          "name": "stdout"
        }
      ]
    },
    {
      "cell_type": "code",
      "metadata": {
        "id": "9MG2QCGcuI69",
        "colab_type": "code",
        "colab": {}
      },
      "source": [
        ""
      ],
      "execution_count": 0,
      "outputs": []
    }
  ]
}